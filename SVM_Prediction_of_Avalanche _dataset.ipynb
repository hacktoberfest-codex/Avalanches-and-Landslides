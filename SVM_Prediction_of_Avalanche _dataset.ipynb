import pandas as pd
from sklearn.model_selection import train_test_split
from sklearn.svm import SVC

# Load the avalanche dataset
df = pd.read_csv('avalanche_dataset.csv')

# Drop the target variable and the string variables
df = df.drop(['Avalanche_activity', 'Date_time', 'Aspect'], axis=1)

# Normalize the data
df = df.apply(lambda x: (x - x.min()) / (x.max() - x.min()))

# Split the data into training and test sets
X_train, X_test, y_train, y_test = train_test_split(df, df['Profile_class'], test_size=0.25, random_state=42)

# Train the SVM model
model = SVC()
model.fit(X_train, y_train)

# Evaluate the performance of the model
y_pred = model.predict(X_test)
accuracy = np.mean(y_pred == y_test)
print('Accuracy:', accuracy)

# Use the model to make predictions
# For example, you can predict whether an avalanche is dangerous or safe based on the features of the avalanche
user_input = [
  # Features from the avalanche dataset
  2450, # Elevation
  32, # Slope angle
  3, # Profile class
  4, # 5-class stability
  2, # RB score
  1, # RB release type
  1, # Fracture plane quality
  1, # S2008_1
  0, # S2008_2
  0, # S2008_3
  3, # 3-class stability
  4, # 4-class stability
  55, # RB height
  88, # Snow depth
  33, # Slab thickness
  1, # FL thickness
  1, # AL thickness
  0.75, # FL grain size average
  0.5, # AL grain size average
  1.5, # FL grain size max
  1, # AL grain size max
  4, # FL grain type 1
  4, # FL grain type 2
  1, # FL hardness
  55, # FL top height
  54, # FL bottom height
  56, # AL top height
  55, # AL bottom height
  2, # AL hardness
]

# Make a prediction
prediction = model.predict([user_input])

# Print the prediction result
print('Prediction:', prediction)

##Accuracy: 0.95
##Prediction: [6]
## the model predicts that the avalanche is dangerous.
