{
  "nbformat": 4,
  "nbformat_minor": 0,
  "metadata": {
    "colab": {
      "provenance": []
    },
    "kernelspec": {
      "name": "python3",
      "display_name": "Python 3"
    },
    "language_info": {
      "name": "python"
    }
  },
  "cells": [
    {
      "cell_type": "code",
      "execution_count": 1,
      "metadata": {
        "colab": {
          "base_uri": "https://localhost:8080/"
        },
        "id": "_1azej3MFdIE",
        "outputId": "b6de15ca-6819-44a2-b4d8-31901cc8d358"
      },
      "outputs": [
        {
          "output_type": "stream",
          "name": "stdout",
          "text": [
            "Accuracy: 0.66\n"
          ]
        }
      ],
      "source": [
        "import pandas as pd\n",
        "from sklearn.model_selection import train_test_split\n",
        "from sklearn.ensemble import RandomForestClassifier\n",
        "from sklearn.metrics import classification_report, accuracy_score\n",
        "\n",
        "\n",
        "data = pd.read_csv(\"Avalanche_dataset.csv\")\n",
        "\n",
        "# Extract year and hour from 'Date_time'\n",
        "data['Year'] = pd.to_datetime(data['Date_time']).dt.year\n",
        "data['Hour'] = pd.to_datetime(data['Date_time']).dt.hour\n",
        "\n",
        "# Drop the original 'Date_time' column\n",
        "data = data.drop(['Date_time'], axis=1)\n",
        "\n",
        "# Define features (X) and target variable (y)\n",
        "X = data.drop(['5-class_Stability'], axis=1)  # Exclude the target variable\n",
        "y = data['5-class_Stability']\n",
        "\n",
        "# Perform one-hot encoding for categorical features in X if needed\n",
        "X_encoded = pd.get_dummies(X, columns=['Aspect', 'Profile_class', 'RB_release_type', 'FL_Grain_type1', 'FL_Grain_type2', 'AL_Hardness', 'FL_location'])\n",
        "\n",
        "#(70% training, 30% test)\n",
        "X_train, X_test, y_train, y_test = train_test_split(X_encoded, y, test_size=0.3, random_state=42)\n",
        "\n",
        "rf_classifier = RandomForestClassifier(n_estimators=100, random_state=42)\n",
        "\n",
        "# Train the model on the training data\n",
        "rf_classifier.fit(X_train, y_train)\n",
        "\n",
        "# Make predictions on the test data\n",
        "y_pred = rf_classifier.predict(X_test)\n",
        "\n",
        "# Evaluate the model\n",
        "accuracy = accuracy_score(y_test, y_pred)\n",
        "\n",
        "\n",
        "print(f\"Accuracy: {accuracy:.2f}\")\n",
        "\n"
      ]
    },
    {
      "cell_type": "code",
      "source": [
        "import pandas as pd\n",
        "from sklearn.model_selection import train_test_split\n",
        "from sklearn.ensemble import RandomForestRegressor\n",
        "from sklearn.metrics import mean_squared_error, r2_score\n",
        "\n",
        "data = pd.read_csv(\"Avalanche_dataset.csv\")\n",
        "\n",
        "# Extract year and hour from 'Date_time'\n",
        "data['Year'] = pd.to_datetime(data['Date_time']).dt.year\n",
        "data['Hour'] = pd.to_datetime(data['Date_time']).dt.hour\n",
        "\n",
        "# Drop the original 'Date_time' column\n",
        "data = data.drop(['Date_time'], axis=1)\n",
        "\n",
        "# Define features (X) and target variable (y)\n",
        "X = data.drop(['3-class_Stability [sum S2008: 1+2+3]'], axis=1)  # Exclude the target variable\n",
        "y = data['3-class_Stability [sum S2008: 1+2+3]']\n",
        "\n",
        "# Perform one-hot encoding for categorical features in X if needed\n",
        "X_encoded = pd.get_dummies(X, columns=['Aspect', 'Profile_class', 'RB_release_type', 'FL_Grain_type1', 'FL_Grain_type2', 'AL_Hardness', 'FL_location'])\n",
        "\n",
        "#(70% training, 30% test)\n",
        "X_train, X_test, y_train, y_test = train_test_split(X_encoded, y, test_size=0.3, random_state=42)\n",
        "\n",
        "# Create a Random Forest Regressor instance\n",
        "rf_regressor = RandomForestRegressor(n_estimators=100, random_state=42)\n",
        "\n",
        "# Train the model on the training data\n",
        "rf_regressor.fit(X_train, y_train)\n",
        "\n",
        "# Make predictions on the test data\n",
        "y_pred = rf_regressor.predict(X_test)\n",
        "\n",
        "# Evaluate the model\n",
        "mse = mean_squared_error(y_test, y_pred)\n",
        "r2 = r2_score(y_test, y_pred)\n",
        "\n",
        "print(f\"Mean Squared Error (MSE): {mse:.2f}\")\n",
        "print(f\"R-squared (R2): {r2:.2f}\")\n",
        "\n"
      ],
      "metadata": {
        "colab": {
          "base_uri": "https://localhost:8080/"
        },
        "id": "hSNf6jGlFpPX",
        "outputId": "95d8bbc3-8b53-42a5-a6d0-6f50f0257325"
      },
      "execution_count": 2,
      "outputs": [
        {
          "output_type": "stream",
          "name": "stdout",
          "text": [
            "Mean Squared Error (MSE): 0.01\n",
            "R-squared (R2): 0.99\n"
          ]
        }
      ]
    },
    {
      "cell_type": "code",
      "source": [],
      "metadata": {
        "id": "n0u1pVenFtnH"
      },
      "execution_count": null,
      "outputs": []
    }
  ]
}