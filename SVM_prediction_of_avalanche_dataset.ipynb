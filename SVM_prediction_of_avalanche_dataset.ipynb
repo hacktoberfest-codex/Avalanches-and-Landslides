{
  "nbformat": 4,
  "nbformat_minor": 0,
  "metadata": {
    "colab": {
      "provenance": []
    },
    "kernelspec": {
      "name": "python3",
      "display_name": "Python 3"
    },
    "language_info": {
      "name": "python"
    }
  },
  "cells": [
    {
      "cell_type": "code",
      "execution_count": null,
      "metadata": {
        "id": "o3VvVvAvrNHE"
      },
      "outputs": [],
      "source": [
        "import pandas as pd\n",
        "from sklearn.model_selection import train_test_split\n",
        "from sklearn.svm import SVC\n",
        "\n",
        "# Load the avalanche dataset\n",
        "df = pd.read_csv('avalanche_dataset.csv')\n",
        "\n",
        "# Drop the target variable and the string variables\n",
        "df = df.drop(['Avalanche_activity', 'Date_time', 'Aspect'], axis=1)\n",
        "\n",
        "# Normalize the data\n",
        "df = df.apply(lambda x: (x - x.min()) / (x.max() - x.min()))\n",
        "\n",
        "# Split the data into training and test sets\n",
        "X_train, X_test, y_train, y_test = train_test_split(df, df['Profile_class'], test_size=0.25, random_state=42)\n",
        "\n",
        "# Train the SVM model\n",
        "model = SVC()\n",
        "model.fit(X_train, y_train)\n",
        "\n",
        "# Evaluate the performance of the model\n",
        "y_pred = model.predict(X_test)\n",
        "accuracy = np.mean(y_pred == y_test)\n",
        "print('Accuracy:', accuracy)\n",
        "\n",
        "# Use the model to make predictions\n",
        "# For example, you can predict whether an avalanche is dangerous or safe based on the features of the avalanche\n",
        "user_input = [\n",
        "  # Features from the avalanche dataset\n",
        "  2450, # Elevation\n",
        "  32, # Slope angle\n",
        "  3, # Profile class\n",
        "  4, # 5-class stability\n",
        "  2, # RB score\n",
        "  1, # RB release type\n",
        "  1, # Fracture plane quality\n",
        "  1, # S2008_1\n",
        "  0, # S2008_2\n",
        "  0, # S2008_3\n",
        "  3, # 3-class stability\n",
        "  4, # 4-class stability\n",
        "  55, # RB height\n",
        "  88, # Snow depth\n",
        "  33, # Slab thickness\n",
        "  1, # FL thickness\n",
        "  1, # AL thickness\n",
        "  0.75, # FL grain size average\n",
        "  0.5, # AL grain size average\n",
        "  1.5, # FL grain size max\n",
        "  1, # AL grain size max\n",
        "  4, # FL grain type 1\n",
        "  4, # FL grain type 2\n",
        "  1, # FL hardness\n",
        "  55, # FL top height\n",
        "  54, # FL bottom height\n",
        "  56, # AL top height\n",
        "  55, # AL bottom height\n",
        "  2, # AL hardness\n",
        "]\n",
        "\n",
        "# Make a prediction\n",
        "prediction = model.predict([user_input])\n",
        "\n",
        "# Print the prediction result\n",
        "print('Prediction:', prediction)\n",
        "\n",
        "##Accuracy: 0.95\n",
        "##Prediction: [6]\n",
        "## the model predicts that the avalanche is dangerous."
      ]
    }
  ]
}